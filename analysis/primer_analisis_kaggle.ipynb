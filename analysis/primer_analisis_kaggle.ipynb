{
 "cells": [
  {
   "cell_type": "markdown",
   "id": "0df08d41",
   "metadata": {},
   "source": [
    "# Análisis Exploratorio de Datos"
   ]
  },
  {
   "cell_type": "markdown",
   "id": "bfe67752",
   "metadata": {},
   "source": [
    "See, fork, and run a random forest benchmark model through Kaggle Scripts\n",
    "\n",
    "You are provided hourly rental data spanning two years. For this competition, the training set is comprised of the first 19 days of each month, while the test set is the 20th to the end of the month. You must predict the total count of bikes rented during each hour covered by the test set, using only information available prior to the rental period.\n",
    "\n",
    "Data Fields\n",
    "* `datetime` - hourly date + timestamp\n",
    "* `season` -  1 = spring, 2 = summer, 3 = fall, 4 = winter\n",
    "* `holiday` - whether the day is considered a holiday\n",
    "* `workingday` - whether the day is neither a weekend nor holiday\n",
    "* `weather` -\n",
    "    * 1: Clear, Few clouds, Partly cloudy, Partly cloudy\n",
    "    * 2: Mist + Cloudy, Mist + Broken clouds, Mist + Few clouds, Mist\n",
    "    * 3: Light Snow, Light Rain + Thunderstorm + Scattered clouds, Light Rain + Scattered clouds\n",
    "    * 4: Heavy Rain + Ice Pallets + Thunderstorm + Mist, Snow + Fog\n",
    "* `temp` - temperature in Celsius\n",
    "* `atemp` - \"feels like\" temperature in Celsius\n",
    "* `humidity` - relative humidity\n",
    "* `windspeed` - wind speed\n",
    "* `casual` - number of non-registered user rentals initiated\n",
    "* `registered` - number of registered user rentals initiated\n",
    "* `count` - number of total rentals"
   ]
  },
  {
   "cell_type": "markdown",
   "id": "ad6feaf4",
   "metadata": {},
   "source": [
    "## Librerías"
   ]
  },
  {
   "cell_type": "code",
   "execution_count": null,
   "id": "0465d083",
   "metadata": {
    "papermill": {
     "duration": 0.992719,
     "end_time": "2022-03-03T23:52:53.637535",
     "exception": false,
     "start_time": "2022-03-03T23:52:52.644816",
     "status": "completed"
    },
    "tags": []
   },
   "outputs": [],
   "source": [
    "import seaborn as sns\n",
    "import numpy as np # linear algebra\n",
    "import pandas as pd # data processing, CSV file I/O (e.g. pd.read_csv)\n",
    "import matplotlib.pyplot as plt"
   ]
  },
  {
   "cell_type": "code",
   "execution_count": null,
   "id": "1bb4778c",
   "metadata": {},
   "outputs": [],
   "source": [
    "sns.set_style(\"darkgrid\")"
   ]
  },
  {
   "cell_type": "markdown",
   "id": "9a7d794c",
   "metadata": {
    "execution": {
     "iopub.execute_input": "2022-03-03T23:52:52.516884Z",
     "iopub.status.busy": "2022-03-03T23:52:52.516264Z",
     "iopub.status.idle": "2022-03-03T23:52:52.566601Z",
     "shell.execute_reply": "2022-03-03T23:52:52.565942Z",
     "shell.execute_reply.started": "2022-03-03T23:44:54.595638Z"
    },
    "papermill": {
     "duration": 0.070321,
     "end_time": "2022-03-03T23:52:52.566734",
     "exception": false,
     "start_time": "2022-03-03T23:52:52.496413",
     "status": "completed"
    },
    "pycharm": {
     "name": "#%% md\n"
    },
    "tags": []
   },
   "source": [
    "## Importar DataSet"
   ]
  },
  {
   "cell_type": "code",
   "execution_count": null,
   "id": "37adce88",
   "metadata": {
    "pycharm": {
     "name": "#%%\n"
    }
   },
   "outputs": [],
   "source": [
    "# data = pd.read_csv(\"/kaggle/input/bike-sharing-demand/train.csv\")\n",
    "data = pd.read_csv(\"../data/train.csv\")\n",
    "data[\"datetime\"] = pd.to_datetime(data[\"datetime\"])"
   ]
  },
  {
   "cell_type": "code",
   "execution_count": null,
   "id": "1c07498f",
   "metadata": {
    "papermill": {
     "duration": 0.04307,
     "end_time": "2022-03-03T23:52:52.627111",
     "exception": false,
     "start_time": "2022-03-03T23:52:52.584041",
     "status": "completed"
    },
    "tags": []
   },
   "outputs": [],
   "source": [
    "data.head()"
   ]
  },
  {
   "cell_type": "code",
   "execution_count": null,
   "id": "d280be80",
   "metadata": {
    "pycharm": {
     "name": "#%%\n"
    }
   },
   "outputs": [],
   "source": [
    "data.columns"
   ]
  },
  {
   "cell_type": "markdown",
   "id": "ca7f1222",
   "metadata": {
    "pycharm": {
     "name": "#%% md\n"
    }
   },
   "source": [
    "* `datetime` - hourly date + timestamp"
   ]
  },
  {
   "cell_type": "code",
   "execution_count": null,
   "id": "bbecc17f",
   "metadata": {},
   "outputs": [],
   "source": [
    "df = data.copy()\n",
    "df.set_index(\"datetime\", inplace=True)\n",
    "df.asfreq(\"1H\")  # Establecer que la frecuencia es de una hora\n",
    "df.head()"
   ]
  },
  {
   "cell_type": "code",
   "execution_count": null,
   "id": "a2d5ed10",
   "metadata": {},
   "outputs": [],
   "source": [
    "len(data), len(df)"
   ]
  },
  {
   "cell_type": "markdown",
   "id": "fa846106",
   "metadata": {
    "pycharm": {
     "name": "#%% md\n"
    }
   },
   "source": [
    "* `season` -  1 = spring, 2 = summer, 3 = fall, 4 = winter"
   ]
  },
  {
   "cell_type": "code",
   "execution_count": null,
   "id": "b6437ad1",
   "metadata": {
    "pycharm": {
     "name": "#%%\n"
    }
   },
   "outputs": [],
   "source": [
    "df.season.unique()"
   ]
  },
  {
   "cell_type": "markdown",
   "id": "fd8feb1a",
   "metadata": {
    "pycharm": {
     "name": "#%% md\n"
    }
   },
   "source": [
    "* `holiday` - whether the day is considered a holiday"
   ]
  },
  {
   "cell_type": "code",
   "execution_count": null,
   "id": "30c9f847",
   "metadata": {
    "pycharm": {
     "name": "#%%\n"
    }
   },
   "outputs": [],
   "source": [
    "df.holiday.unique()"
   ]
  },
  {
   "cell_type": "markdown",
   "id": "56258913",
   "metadata": {
    "pycharm": {
     "name": "#%% md\n"
    }
   },
   "source": [
    "* `workingday` - whether the day is neither a weekend nor holiday"
   ]
  },
  {
   "cell_type": "code",
   "execution_count": null,
   "id": "64eca4c1",
   "metadata": {
    "pycharm": {
     "name": "#%%\n"
    }
   },
   "outputs": [],
   "source": [
    "df.workingday.unique()"
   ]
  },
  {
   "cell_type": "markdown",
   "id": "4712f678",
   "metadata": {
    "pycharm": {
     "name": "#%% md\n"
    }
   },
   "source": [
    "* `weather` -\n",
    "    * 1: Clear, Few clouds, Partly cloudy, Partly cloudy\n",
    "    * 2: Mist + Cloudy, Mist + Broken clouds, Mist + Few clouds, Mist\n",
    "    * 3: Light Snow, Light Rain + Thunderstorm + Scattered clouds, Light Rain + Scattered clouds\n",
    "    * 4: Heavy Rain + Ice Pallets + Thunderstorm + Mist, Snow + Fog"
   ]
  },
  {
   "cell_type": "code",
   "execution_count": null,
   "id": "b018c399",
   "metadata": {
    "scrolled": true
   },
   "outputs": [],
   "source": [
    "df.weather.unique()"
   ]
  },
  {
   "cell_type": "markdown",
   "id": "0a5fcbb6",
   "metadata": {
    "pycharm": {
     "name": "#%% md\n"
    }
   },
   "source": [
    "* `temp` - temperature in Celsius\n",
    "* `atemp` - \"feels like\" temperature in Celsius"
   ]
  },
  {
   "cell_type": "code",
   "execution_count": null,
   "id": "4d204c3d",
   "metadata": {
    "scrolled": true
   },
   "outputs": [],
   "source": [
    "df.temp.describe()"
   ]
  },
  {
   "cell_type": "code",
   "execution_count": null,
   "id": "2c5fab74",
   "metadata": {
    "scrolled": true
   },
   "outputs": [],
   "source": [
    "df.atemp.describe()"
   ]
  },
  {
   "cell_type": "markdown",
   "id": "b37676a6",
   "metadata": {},
   "source": [
    "Comparación de la temperatura real vs. la temperatura \"de cómo se siente\""
   ]
  },
  {
   "cell_type": "code",
   "execution_count": null,
   "id": "a3d27217",
   "metadata": {},
   "outputs": [],
   "source": [
    "from datetime import timedelta\n",
    "ti = df.index[0]\n",
    "tf = ti + timedelta(days=365)"
   ]
  },
  {
   "cell_type": "code",
   "execution_count": null,
   "id": "59c07f7f",
   "metadata": {},
   "outputs": [],
   "source": [
    "_ = plt.figure(figsize=(15, 7))\n",
    "df.temp[ti:tf].plot()\n",
    "df.atemp[ti:tf].plot()\n",
    "plt.legend()\n",
    "plt.show()"
   ]
  },
  {
   "cell_type": "markdown",
   "id": "579119eb",
   "metadata": {
    "pycharm": {
     "name": "#%% md\n"
    }
   },
   "source": [
    "* `humidity` - relative humidity"
   ]
  },
  {
   "cell_type": "code",
   "execution_count": null,
   "id": "9e5dd563",
   "metadata": {},
   "outputs": [],
   "source": [
    "_ = plt.figure(figsize=(15, 7))\n",
    "df.humidity.plot()\n",
    "plt.show()"
   ]
  },
  {
   "cell_type": "markdown",
   "id": "29abd67e",
   "metadata": {
    "pycharm": {
     "name": "#%% md\n"
    }
   },
   "source": [
    "* `windspeed` - wind speed"
   ]
  },
  {
   "cell_type": "code",
   "execution_count": null,
   "id": "8189c16b",
   "metadata": {},
   "outputs": [],
   "source": [
    "_ = plt.figure(figsize=(15, 7))\n",
    "df.windspeed.plot()\n",
    "plt.show()"
   ]
  },
  {
   "cell_type": "markdown",
   "id": "050c4e3a",
   "metadata": {
    "pycharm": {
     "name": "#%% md\n"
    }
   },
   "source": [
    "* `casual` - number of non-registered user rentals initiated\n",
    "* `registered` - number of registered user rentals initiated\n",
    "* `count` - number of total rentals"
   ]
  },
  {
   "cell_type": "code",
   "execution_count": null,
   "id": "c944342b",
   "metadata": {},
   "outputs": [],
   "source": [
    "_ = plt.figure(figsize=(15, 7))\n",
    "df[\"count\"].plot()\n",
    "df.registered.plot()\n",
    "df.casual.plot()\n",
    "plt.legend()\n",
    "plt.show()"
   ]
  },
  {
   "cell_type": "code",
   "execution_count": null,
   "id": "a6726855",
   "metadata": {},
   "outputs": [],
   "source": [
    "(df.index[-1] - df.index[0])/7"
   ]
  },
  {
   "cell_type": "code",
   "execution_count": null,
   "id": "b7d5d684",
   "metadata": {
    "papermill": {
     "duration": 28.614362,
     "end_time": "2022-03-03T23:53:22.269404",
     "exception": false,
     "start_time": "2022-03-03T23:52:53.655042",
     "status": "completed"
    },
    "pycharm": {
     "name": "#%%\n"
    },
    "tags": []
   },
   "outputs": [],
   "source": [
    "sns.pairplot(data)\n",
    "plt.show()"
   ]
  },
  {
   "cell_type": "code",
   "execution_count": null,
   "id": "f9b1260e",
   "metadata": {
    "papermill": {
     "duration": 0.065205,
     "end_time": "2022-03-03T23:53:22.508836",
     "exception": false,
     "start_time": "2022-03-03T23:53:22.443631",
     "status": "completed"
    },
    "tags": []
   },
   "outputs": [],
   "source": [
    "holiday = data[data.holiday == 1]\n",
    "no_holiday = data[data.holiday == 0]\n",
    "working = data[data.workingday == 1]\n",
    "no_working = data[data.workingday == 0]"
   ]
  },
  {
   "cell_type": "code",
   "execution_count": null,
   "id": "bee00e58",
   "metadata": {
    "papermill": {
     "duration": 0.406526,
     "end_time": "2022-03-03T23:53:22.969990",
     "exception": false,
     "start_time": "2022-03-03T23:53:22.563464",
     "status": "completed"
    },
    "tags": []
   },
   "outputs": [],
   "source": [
    "cols = [\"casual\", \"registered\"]\n",
    "no_holiday[cols].hist();"
   ]
  },
  {
   "cell_type": "code",
   "execution_count": null,
   "id": "ce657f1b",
   "metadata": {
    "papermill": {
     "duration": 0.41323,
     "end_time": "2022-03-03T23:53:23.439043",
     "exception": false,
     "start_time": "2022-03-03T23:53:23.025813",
     "status": "completed"
    },
    "tags": []
   },
   "outputs": [],
   "source": [
    "holiday[cols].hist();"
   ]
  },
  {
   "cell_type": "code",
   "execution_count": null,
   "id": "6b64b170",
   "metadata": {
    "papermill": {
     "duration": 1.127512,
     "end_time": "2022-03-03T23:53:24.623459",
     "exception": false,
     "start_time": "2022-03-03T23:53:23.495947",
     "status": "completed"
    },
    "tags": []
   },
   "outputs": [],
   "source": [
    "working[cols].hist(bins=200);"
   ]
  },
  {
   "cell_type": "code",
   "execution_count": null,
   "id": "e85d6be4",
   "metadata": {
    "papermill": {
     "duration": 1.159671,
     "end_time": "2022-03-03T23:53:25.840245",
     "exception": false,
     "start_time": "2022-03-03T23:53:24.680574",
     "status": "completed"
    },
    "tags": []
   },
   "outputs": [],
   "source": [
    "no_working[cols].hist(bins=200);"
   ]
  },
  {
   "cell_type": "code",
   "execution_count": null,
   "id": "b2b02ef3",
   "metadata": {
    "papermill": {
     "duration": 1.482273,
     "end_time": "2022-03-03T23:53:27.382551",
     "exception": false,
     "start_time": "2022-03-03T23:53:25.900278",
     "status": "completed"
    },
    "tags": []
   },
   "outputs": [],
   "source": [
    "data[cols].hist(bins=200);"
   ]
  },
  {
   "cell_type": "code",
   "execution_count": null,
   "id": "90c8473c",
   "metadata": {
    "papermill": {
     "duration": 0.069482,
     "end_time": "2022-03-03T23:53:27.512898",
     "exception": false,
     "start_time": "2022-03-03T23:53:27.443416",
     "status": "completed"
    },
    "tags": []
   },
   "outputs": [],
   "source": [
    "data.columns"
   ]
  },
  {
   "cell_type": "code",
   "execution_count": null,
   "id": "43e5f757",
   "metadata": {
    "papermill": {
     "duration": 0.067515,
     "end_time": "2022-03-03T23:53:27.639415",
     "exception": false,
     "start_time": "2022-03-03T23:53:27.571900",
     "status": "completed"
    },
    "tags": []
   },
   "outputs": [],
   "source": [
    "%matplotlib inline"
   ]
  },
  {
   "cell_type": "code",
   "execution_count": null,
   "id": "1203e5cb",
   "metadata": {
    "papermill": {
     "duration": 0.357603,
     "end_time": "2022-03-03T23:53:28.055019",
     "exception": false,
     "start_time": "2022-03-03T23:53:27.697416",
     "status": "completed"
    },
    "tags": []
   },
   "outputs": [],
   "source": [
    "plt.figure(figsize=(20,5))\n",
    "plt.plot(data[\"datetime\"].values[:], data[\"casual\"].values[:], \".\", )\n",
    "plt.plot(data[\"datetime\"].values[:], data[\"windspeed\"].values[:], \".\")\n"
   ]
  },
  {
   "cell_type": "code",
   "execution_count": null,
   "id": "60799c34",
   "metadata": {
    "papermill": {
     "duration": 0.062412,
     "end_time": "2022-03-03T23:53:28.181121",
     "exception": false,
     "start_time": "2022-03-03T23:53:28.118709",
     "status": "completed"
    },
    "tags": []
   },
   "outputs": [],
   "source": []
  }
 ],
 "metadata": {
  "kernelspec": {
   "display_name": "Python 3",
   "language": "python",
   "name": "python3"
  },
  "language_info": {
   "codemirror_mode": {
    "name": "ipython",
    "version": 3
   },
   "file_extension": ".py",
   "mimetype": "text/x-python",
   "name": "python",
   "nbconvert_exporter": "python",
   "pygments_lexer": "ipython3",
   "version": "3.6.8"
  },
  "papermill": {
   "default_parameters": {},
   "duration": 47.014001,
   "end_time": "2022-03-03T23:53:29.355928",
   "environment_variables": {},
   "exception": null,
   "input_path": "__notebook__.ipynb",
   "output_path": "__notebook__.ipynb",
   "parameters": {},
   "start_time": "2022-03-03T23:52:42.341927",
   "version": "2.3.3"
  }
 },
 "nbformat": 4,
 "nbformat_minor": 5
}
