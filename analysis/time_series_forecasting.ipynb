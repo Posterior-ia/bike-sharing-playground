{
 "cells": [
  {
   "cell_type": "markdown",
   "metadata": {},
   "source": [
    "# Time Series Forecasting"
   ]
  },
  {
   "cell_type": "markdown",
   "metadata": {},
   "source": [
    "In this tutorial, we will demonstrate how to build a model for time series forecasting in NumPyro. Specifically, we will replicate the **Seasonal, Global Trend (SGT)** model from the [Rlgt: Bayesian Exponential Smoothing Models with Trend Modifications](https://cran.r-project.org/web/packages/Rlgt/index.html) package. The time series data that we will use for this tutorial is the **lynx** dataset, which contains annual numbers of lynx trappings from 1821 to 1934 in Canada."
   ]
  },
  {
   "cell_type": "code",
   "execution_count": null,
   "metadata": {},
   "outputs": [],
   "source": [
    "import os\n",
    "\n",
    "import matplotlib.pyplot as plt\n",
    "from matplotlib import rcParams\n",
    "rcParams['figure.dpi'] = 150\n",
    "import pandas as pd\n",
    "from IPython.display import set_matplotlib_formats\n",
    "\n",
    "import jax.numpy as jnp\n",
    "from jax import random\n",
    "\n",
    "import numpyro\n",
    "import numpyro.distributions as dist\n",
    "from numpyro.contrib.control_flow import scan\n",
    "from numpyro.diagnostics import autocorrelation, hpdi\n",
    "from numpyro.infer import MCMC, NUTS, Predictive\n",
    "\n",
    "if \"NUMPYRO_SPHINXBUILD\" in os.environ:\n",
    "    set_matplotlib_formats(\"svg\")\n",
    "\n",
    "numpyro.set_host_device_count(8)\n",
    "assert numpyro.__version__.startswith(\"0.9.2\")"
   ]
  },
  {
   "cell_type": "code",
   "execution_count": null,
   "metadata": {},
   "outputs": [],
   "source": [
    "numpyro.__version__"
   ]
  },
  {
   "cell_type": "markdown",
   "metadata": {},
   "source": [
    "## Data"
   ]
  },
  {
   "cell_type": "markdown",
   "metadata": {},
   "source": [
    "First, lets import and take a look at the dataset."
   ]
  },
  {
   "cell_type": "code",
   "execution_count": null,
   "metadata": {},
   "outputs": [],
   "source": [
    "URL = \"/home/manuel/bike-sharing-playground/data/train.csv\"\n",
    "bikes = pd.read_csv(URL, index_col=0)\n",
    "\n",
    "# print(\"Length of time series:\", data.shape[0])\n",
    "plt.figure(figsize=(8, 4))\n",
    "# plt.show()\n",
    "bikes.index = pd.to_datetime(bikes.index)\n",
    "bikes['count'][:420].plot()\n",
    "data = bikes[\"count\"][:420].values\n",
    "# bikes.groupby(bikes.index.resample('D'))['count'].plot()"
   ]
  },
  {
   "cell_type": "code",
   "execution_count": null,
   "metadata": {},
   "outputs": [],
   "source": [
    "bikes.head()"
   ]
  },
  {
   "cell_type": "markdown",
   "metadata": {},
   "source": [
    "The time series has a length of 114 (a data point for each year), and by looking at the plot, we can observe [seasonality](https://en.wikipedia.org/wiki/Seasonality) in this dataset, which is the recurrence of similar patterns at specific time periods. e.g. in this dataset, we observe a cyclical pattern every 10 years, but there is also a less obvious but clear spike in the number of trappings every 40 years. Let us see if we can model this effect in NumPyro.\n",
    "\n",
    "In this tutorial, we will use the first 80 values for training and the last 34 values for testing."
   ]
  },
  {
   "cell_type": "code",
   "execution_count": null,
   "metadata": {},
   "outputs": [],
   "source": [
    "y_train, y_test = jnp.array(data[:320], dtype=jnp.float32), data[320:]"
   ]
  },
  {
   "cell_type": "markdown",
   "metadata": {},
   "source": [
    "## Model"
   ]
  },
  {
   "cell_type": "markdown",
   "metadata": {},
   "source": [
    "The model we are going to use is called **Seasonal, Global Trend**, which when tested on 3003 time series of the [M-3 competition](https://forecasters.org/resources/time-series-data/m3-competition/), has been known to outperform other models originally participating in the competition:\n",
    "\n",
    "\\begin{align}\n",
    "\\text{exp-val}_{t} &= \\text{level}_{t-1} + \\text{coef-trend} \\times \\text{level}_{t-1}^{\\text{pow-trend}} + \\text{s}_t \\times \\text{level}_{t-1}^{\\text{pow-season}}, \\\\\n",
    "\\sigma_{t} &= \\sigma \\times \\text{exp-val}_{t}^{\\text{powx}} + \\text{offset}, \\\\\n",
    "y_{t} &\\sim \\text{StudentT}(\\nu, \\text{exp-val}_{t}, \\sigma_{t})\n",
    "\\end{align}\n",
    "\n",
    ", where `level` and `s` follows the following recursion rules:\n",
    "\n",
    "\\begin{align}\n",
    "\\text{level-p} &=\n",
    "\\begin{cases}\n",
    "y_t - \\text{s}_t \\times \\text{level}_{t-1}^{\\text{pow-season}} & \\text{if } t \\le \\text{seasonality}, \\\\ \n",
    "\\text{Average} \\left[y(t - \\text{seasonality} + 1), \\ldots, y(t)\\right] & \\text{otherwise},\n",
    "\\end{cases} \\\\\n",
    "\\text{level}_{t} &= \\text{level-sm} \\times \\text{level-p} + (1 - \\text{level-sm}) \\times \\text{level}_{t-1}, \\\\\n",
    "\\text{s}_{t + \\text{seasonality}} &= \\text{s-sm} \\times \\frac{y_{t} - \\text{level}_{t}}{\\text{level}_{t-1}^{\\text{pow-trend}}}\n",
    "+ (1 - \\text{s-sm}) \\times \\text{s}_{t}.\n",
    "\\end{align}"
   ]
  },
  {
   "cell_type": "markdown",
   "metadata": {},
   "source": [
    "A more detailed explanation for SGT model can be found in [this vignette](https://cran.r-project.org/web/packages/Rlgt/vignettes/GT_models.html) from the authors of the Rlgt package. Here we summarize the core ideas of this model:\n",
    "\n",
    "+ [Student's t-distribution](https://en.wikipedia.org/wiki/Student%27s_t-distribution), which has heavier tails than normal distribution, is used for the likelihood.\n",
    "+ The expected value `exp_val` consists of a trending component and a seasonal component:\n",
    "  - The trend is governed by the map $x \\mapsto x + ax^b$, where $x$ is `level`, $a$ is `coef_trend`, and $b$ is `pow_trend`. Note that when $b \\sim 0$, the trend is linear with $a$ is the slope, and when $b \\sim 1$, the trend is exponential with $a$ is the rate. So that function can cover a large family of trend.\n",
    "  - When time changes, `level` and `s` are updated to new values. Coefficients `level_sm` and `s_sm` are used to make the transition smoothly.\n",
    "+ When `powx` is near $0$, the error $\\sigma_t$ will be nearly constant while when `powx` is near $1$, the error will be propotional to the expected value.\n",
    "+ There are several varieties of SGT. In this tutorial, we use generalized seasonality and seasonal average method."
   ]
  },
  {
   "cell_type": "markdown",
   "metadata": {},
   "source": [
    "We are ready to specify the model using *NumPyro* primitives. In NumPyro, we use the primitive `sample(name, prior)` to declare a latent random variable with a corresponding `prior`. These primitives can have custom interpretations depending on the effect handlers that are used by NumPyro inference algorithms in the backend. e.g. we can condition on specific values using the `condition` handler, or record values at these sample sites in the execution trace using the `trace` handler. Note that these details are not important for specifying the model, or running inference, but curious readers are encouraged to read the [tutorial on effect handlers](http://pyro.ai/examples/effect_handlers.html) in Pyro."
   ]
  },
  {
   "cell_type": "code",
   "execution_count": null,
   "metadata": {},
   "outputs": [],
   "source": [
    "def sgt(y, seasonality, future=0):\n",
    "    # heuristically, standard derivation of Cauchy prior depends on\n",
    "    # the max value of data\n",
    "    cauchy_sd = jnp.max(y) / 150\n",
    "\n",
    "    # NB: priors' parameters are taken from\n",
    "    # https://github.com/cbergmeir/Rlgt/blob/master/Rlgt/R/rlgtcontrol.R\n",
    "    nu = numpyro.sample(\"nu\", dist.Uniform(2, 20))\n",
    "    powx = numpyro.sample(\"powx\", dist.Uniform(0, 1))\n",
    "    sigma = numpyro.sample(\"sigma\", dist.HalfCauchy(cauchy_sd))\n",
    "    offset_sigma = numpyro.sample(\n",
    "        \"offset_sigma\", dist.TruncatedCauchy(low=1e-10, loc=1e-10, scale=cauchy_sd)\n",
    "    )\n",
    "\n",
    "    coef_trend = numpyro.sample(\"coef_trend\", dist.Cauchy(0, cauchy_sd))\n",
    "    pow_trend_beta = numpyro.sample(\"pow_trend_beta\", dist.Beta(1, 1))\n",
    "    # pow_trend takes values from -0.5 to 1\n",
    "    pow_trend = 1.5 * pow_trend_beta - 0.5\n",
    "    pow_season = numpyro.sample(\"pow_season\", dist.Beta(1, 1))\n",
    "\n",
    "    level_sm = numpyro.sample(\"level_sm\", dist.Beta(1, 2))\n",
    "    s_sm = numpyro.sample(\"s_sm\", dist.Uniform(0, 1))\n",
    "    init_s = numpyro.sample(\"init_s\", dist.Cauchy(0, y[:seasonality] * 0.3))\n",
    "\n",
    "    def transition_fn(carry, t):\n",
    "        level, s, moving_sum = carry\n",
    "        season = s[0] * level**pow_season\n",
    "        exp_val = level + coef_trend * level**pow_trend + season\n",
    "        exp_val = jnp.clip(exp_val, a_min=0)\n",
    "        # use expected vale when forecasting\n",
    "        y_t = jnp.where(t >= N, exp_val, y[t])\n",
    "\n",
    "        moving_sum = (\n",
    "            moving_sum + y[t] - jnp.where(t >= seasonality, y[t - seasonality], 0.0)\n",
    "        )\n",
    "        level_p = jnp.where(t >= seasonality, moving_sum / seasonality, y_t - season)\n",
    "        level = level_sm * level_p + (1 - level_sm) * level\n",
    "        level = jnp.clip(level, a_min=0)\n",
    "\n",
    "        new_s = (s_sm * (y_t - level) / season + (1 - s_sm)) * s[0]\n",
    "        # repeat s when forecasting\n",
    "        new_s = jnp.where(t >= N, s[0], new_s)\n",
    "        s = jnp.concatenate([s[1:], new_s[None]], axis=0)\n",
    "\n",
    "        omega = sigma * exp_val**powx + offset_sigma\n",
    "        y_ = numpyro.sample(\"y\", dist.StudentT(nu, exp_val, omega))\n",
    "\n",
    "        return (level, s, moving_sum), y_\n",
    "\n",
    "    N = y.shape[0]\n",
    "    level_init = y[0]\n",
    "    s_init = jnp.concatenate([init_s[1:], init_s[:1]], axis=0)\n",
    "    moving_sum = level_init\n",
    "    with numpyro.handlers.condition(data={\"y\": y[1:]}):\n",
    "        _, ys = scan(\n",
    "            transition_fn, (level_init, s_init, moving_sum), jnp.arange(1, N + future)\n",
    "        )\n",
    "    if future > 0:\n",
    "        numpyro.deterministic(\"y_forecast\", ys[-future:])"
   ]
  },
  {
   "cell_type": "markdown",
   "metadata": {},
   "source": [
    "Note that `level` and `s` are updated recursively while we collect the expected value at each time step. NumPyro uses [JAX](https://github.com/google/jax) in the backend to JIT compile many critical parts of the NUTS algorithm, including the verlet integrator and the tree building process. However, doing so using Python's `for` loop in the model will result in a long compilation time for the model, so we use `scan` - which is a wrapper of [lax.scan](https://jax.readthedocs.io/en/latest/_autosummary/jax.lax.scan.html#jax.lax.scan) with supports for NumPyro primitives and handlers. A detailed explanation for using this utility can be found in [NumPyro documentation](http://num.pyro.ai/en/latest/primitives.html#scan). Here we use it to collect `y` values while the triple `(level, s, moving_sum)` plays the role of carrying state."
   ]
  },
  {
   "cell_type": "markdown",
   "metadata": {},
   "source": [
    "Another note is that instead of declaring the observation site `y` in `transition_fn`\n",
    "\n",
    "```python\n",
    "numpyro.sample(\"y\", dist.StudentT(nu, exp_val, omega), obs=y[t])\n",
    "```\n",
    "\n",
    ", we have used [condition](http://num.pyro.ai/en/stable/handlers.html#numpyro.handlers.condition) handler here. The reason is we also want to use this model for forecasting. In forecasting, future values of `y` are non-observable, so `obs=y[t]` does not make sense when `t >= len(y)` (caution: index out-of-bound errors do not get raised in JAX, e.g. `jnp.arange(3)[10] == 2`). Using `condition`, when the length of `scan` is larger than the length of the conditioned/observed site, unobserved values will be sampled from the distribution of that site."
   ]
  },
  {
   "cell_type": "markdown",
   "metadata": {},
   "source": [
    "## Inference"
   ]
  },
  {
   "cell_type": "markdown",
   "metadata": {},
   "source": [
    "First, we want to choose a good value for `seasonality`. Following [the demo in Rlgt](https://github.com/cbergmeir/Rlgt/blob/master/Rlgt/demo/lynx.R), we will set `seasonality=38`. Indeed, this value can be guessed by looking at the plot of the training data, where the second order seasonality effect has a periodicity around $40$ years. Note that $38$ is also one of the highest-autocorrelation lags."
   ]
  },
  {
   "cell_type": "code",
   "execution_count": null,
   "metadata": {},
   "outputs": [],
   "source": [
    "print(\"Lag values sorted according to their autocorrelation values:\\n\")\n",
    "print(jnp.argsort(autocorrelation(y_train))[::-1])"
   ]
  },
  {
   "cell_type": "markdown",
   "metadata": {},
   "source": [
    "Now, let us run $4$ MCMC chains (using the No-U-Turn Sampler algorithm) with $5000$ warmup steps and $5000$ sampling steps per each chain. The returned value will be a collection of $20000$ samples."
   ]
  },
  {
   "cell_type": "code",
   "execution_count": null,
   "metadata": {},
   "outputs": [],
   "source": [
    "seasonality = 24"
   ]
  },
  {
   "cell_type": "code",
   "execution_count": null,
   "metadata": {},
   "outputs": [],
   "source": [
    "%%time\n",
    "kernel = NUTS(sgt)\n",
    "mcmc = MCMC(kernel, num_warmup=100, num_samples=1000, num_chains=8)\n",
    "mcmc.run(random.PRNGKey(0), y_train, seasonality=seasonality)\n",
    "mcmc.print_summary()\n",
    "samples = mcmc.get_samples()"
   ]
  },
  {
   "cell_type": "markdown",
   "metadata": {},
   "source": [
    "## Forecasting"
   ]
  },
  {
   "cell_type": "markdown",
   "metadata": {},
   "source": [
    "Given `samples` from `mcmc`, we want to do forecasting for the testing dataset `y_test`. NumPyro provides a convenient utility [Predictive](http://num.pyro.ai/en/stable/utilities.html#numpyro.infer.util.Predictive) to get predictive distribution. Let's see how to use it to get forecasting values.\n",
    "\n",
    "Notice that in the `sgt` model defined above, there is a keyword `future` which controls the execution of the model - depending on whether `future > 0` or `future == 0`. The following code predicts the last 34 values from the original time-series."
   ]
  },
  {
   "cell_type": "code",
   "execution_count": null,
   "metadata": {},
   "outputs": [],
   "source": [
    "predictive = Predictive(sgt, samples, return_sites=[\"y_forecast\"])\n",
    "forecast_marginal = predictive(random.PRNGKey(1), y_train, seasonality=seasonality, future=100)[\n",
    "    \"y_forecast\"\n",
    "]"
   ]
  },
  {
   "cell_type": "markdown",
   "metadata": {},
   "source": [
    "Let's get sMAPE, root mean square error of the prediction, and visualize the result with the mean prediction and the 90% highest posterior density interval (HPDI)."
   ]
  },
  {
   "cell_type": "code",
   "execution_count": null,
   "metadata": {},
   "outputs": [],
   "source": [
    "y_pred = jnp.mean(forecast_marginal, axis=0)\n",
    "sMAPE = jnp.mean(jnp.abs(y_pred - y_test) / (y_pred + y_test)) * 200\n",
    "msqrt = jnp.sqrt(jnp.mean((y_pred - y_test) ** 2))\n",
    "print(\"sMAPE: {:.2f}, rmse: {:.2f}\".format(sMAPE, msqrt))"
   ]
  },
  {
   "cell_type": "markdown",
   "metadata": {},
   "source": [
    "Finally, let's plot the result to verify that we get the expected one."
   ]
  },
  {
   "cell_type": "code",
   "execution_count": null,
   "metadata": {},
   "outputs": [],
   "source": [
    "plt.figure(figsize=(8, 4))\n",
    "plt.plot(bikes[:420].index, data, label='data')\n",
    "t_future = bikes[320:420].index\n",
    "hpd_low, hpd_high = hpdi(forecast_marginal)\n",
    "plt.plot(t_future, y_pred, lw=2, label='prediction')\n",
    "plt.fill_between(t_future, hpd_low, hpd_high, alpha=0.3)\n",
    "plt.title(\"Forecasting bike dataset with SGT model (90% HPDI)\")\n",
    "plt.ylabel('Number of rentals')\n",
    "plt.xlabel('Date')\n",
    "plt.tick_params(axis='x', rotation=45)\n",
    "plt.legend(loc='upper left')\n",
    "plt.show()"
   ]
  },
  {
   "cell_type": "markdown",
   "metadata": {},
   "source": [
    "As we can observe, the model has been able to learn both the first and second order seasonality effects, i.e. a cyclical pattern with a periodicity of around 10, as well as spikes that can be seen once every 40 or so years. Moreover, we not only have point estimates for the forecast but can also use the uncertainty estimates from the model to bound our forecasts. "
   ]
  },
  {
   "cell_type": "markdown",
   "metadata": {},
   "source": [
    "## Acknowledgements\n",
    "\n",
    "We would like to thank Slawek Smyl for many helpful resources and suggestions. Fast inference would not have been possible without the support of JAX and the XLA teams, so we would like to thank them for providing such a great open-source platform for us to build on, and for their responsiveness in dealing with our feature requests and bug reports."
   ]
  },
  {
   "cell_type": "markdown",
   "metadata": {},
   "source": [
    "## References\n",
    "\n",
    "[1] `Rlgt: Bayesian Exponential Smoothing Models with Trend Modifications`,<br>&nbsp;&nbsp;&nbsp;&nbsp;\n",
    "Slawek Smyl, Christoph Bergmeir, Erwin Wibowo, To Wang Ng, Trustees of Columbia University"
   ]
  }
 ],
 "metadata": {
  "celltoolbar": "Edit Metadata",
  "kernelspec": {
   "display_name": "Python 3",
   "language": "python",
   "name": "python3"
  },
  "language_info": {
   "codemirror_mode": {
    "name": "ipython",
    "version": 3
   },
   "file_extension": ".py",
   "mimetype": "text/x-python",
   "name": "python",
   "nbconvert_exporter": "python",
   "pygments_lexer": "ipython3",
   "version": "3.6.8"
  }
 },
 "nbformat": 4,
 "nbformat_minor": 4
}
